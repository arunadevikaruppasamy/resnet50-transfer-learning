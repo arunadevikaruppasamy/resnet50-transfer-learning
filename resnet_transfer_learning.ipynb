{
  "nbformat": 4,
  "nbformat_minor": 0,
  "metadata": {
    "colab": {
      "name": "resnet-transfer-learning.ipynb",
      "version": "0.3.2",
      "provenance": [],
      "collapsed_sections": []
    },
    "kernelspec": {
      "name": "python3",
      "display_name": "Python 3"
    },
    "accelerator": "GPU"
  },
  "cells": [
    {
      "metadata": {
        "id": "D-vVuyDEwMPV",
        "colab_type": "code",
        "colab": {}
      },
      "cell_type": "code",
      "source": [
        "from google.colab import drive\n",
        "drive.mount('/content/drive/')\n",
        "\n",
        "!ls \"/content/drive/My Drive\"\n"
      ],
      "execution_count": 0,
      "outputs": []
    },
    {
      "metadata": {
        "id": "guyHACI_wXRb",
        "colab_type": "code",
        "colab": {}
      },
      "cell_type": "code",
      "source": [
        "!pip3 install https://download.pytorch.org/whl/cu80/torch-1.0.0-cp36-cp36m-linux_x86_64.whl\n",
        "!pip3 install torchvision\n"
      ],
      "execution_count": 0,
      "outputs": []
    },
    {
      "metadata": {
        "id": "q-FDmSToom8q",
        "colab_type": "code",
        "colab": {}
      },
      "cell_type": "code",
      "source": [
        "!pip install Pillow"
      ],
      "execution_count": 0,
      "outputs": []
    },
    {
      "metadata": {
        "id": "eDHoy7Ypwfka",
        "colab_type": "code",
        "colab": {}
      },
      "cell_type": "code",
      "source": [
        "import torch\n",
        "import torch.nn as nn\n",
        "import numpy as np\n",
        "import matplotlib.pyplot as plt\n",
        "from torchvision.transforms import transforms\n",
        "import torch.utils.data as utils\n",
        "import torchvision.models as models\n",
        "import torch.optim as optim\n",
        "from torch.optim import lr_scheduler\n",
        "import time\n",
        "import os\n",
        "import copy\n",
        "from torch.utils.data import sampler\n",
        "from skimage.transform import resize\n",
        "import cv2\n",
        "from skimage import io, transform\n",
        "from torch.utils.data.dataset import Dataset\n",
        "from PIL import Image\n",
        "from torch.autograd import Variable\n",
        "from sklearn.model_selection import train_test_split"
      ],
      "execution_count": 0,
      "outputs": []
    },
    {
      "metadata": {
        "id": "cbI3u3oVwoim",
        "colab_type": "code",
        "colab": {}
      },
      "cell_type": "code",
      "source": [
        "device = torch.device(\"cuda:0\" if torch.cuda.is_available() else \"cpu\")"
      ],
      "execution_count": 0,
      "outputs": []
    },
    {
      "metadata": {
        "id": "frAawsHowpbY",
        "colab_type": "code",
        "colab": {}
      },
      "cell_type": "code",
      "source": [
        "def unpickle(file):\n",
        "    import pickle\n",
        "    with open(file, 'rb') as fo:\n",
        "        dict = pickle.load(fo, encoding='latin1')\n",
        "    return dict\n",
        "\n",
        "class ChunkSampler(sampler.Sampler):\n",
        "    def __init__(self, num_samples, start=0):\n",
        "        self.num_samples = num_samples\n",
        "        self.start = start\n",
        "    \n",
        "    def __iter__(self):\n",
        "        return iter(range(self.start, self.start+self.num_samples))\n",
        "    \n",
        "    def __len__(self):\n",
        "        return self.num_samples"
      ],
      "execution_count": 0,
      "outputs": []
    },
    {
      "metadata": {
        "id": "r324w0xzHYg0",
        "colab_type": "text"
      },
      "cell_type": "markdown",
      "source": [
        "# **Data Preparation **"
      ]
    },
    {
      "metadata": {
        "id": "hM1julBAxGWm",
        "colab_type": "code",
        "colab": {}
      },
      "cell_type": "code",
      "source": [
        "data_path_prefix = '/content/drive/My Drive/'\n",
        "\n",
        "batch1 = unpickle(data_path_prefix + 'data_batch_1')\n",
        "batch2 = unpickle(data_path_prefix + 'data_batch_2')\n",
        "batch3 = unpickle(data_path_prefix + 'data_batch_3')\n",
        "batch4 = unpickle(data_path_prefix + 'data_batch_4')\n",
        "batch5 = unpickle(data_path_prefix + 'data_batch_5')\n",
        "test_batch = unpickle(data_path_prefix + 'test_batch')\n",
        "\n",
        "batch1_features = np.array(batch1['data'].reshape((len(batch1['data']), 3, 32, 32)).transpose(0, 2, 3, 1))\n",
        "batch1_labels = np.array(batch1['labels'])\n",
        "\n",
        "batch2_features = np.array(batch2['data'].reshape((len(batch2['data']), 3, 32, 32)).transpose(0, 2, 3, 1))\n",
        "batch2_labels = np.array(batch2['labels'])\n",
        "\n",
        "batch3_features = np.array(batch3['data'].reshape((len(batch3['data']), 3, 32, 32)).transpose(0, 2, 3, 1))\n",
        "batch3_labels = np.array(batch3['labels'])\n",
        "\n",
        "batch4_features = np.array(batch4['data'].reshape((len(batch4['data']), 3, 32, 32)).transpose(0, 2, 3, 1))\n",
        "batch4_labels = np.array(batch4['labels'])\n",
        "\n",
        "batch5_features = np.array(batch5['data'].reshape((len(batch5['data']), 3, 32, 32)).transpose(0, 2, 3, 1))\n",
        "batch5_labels = np.array(batch5['labels'])\n",
        "\n",
        "test_features = np.array(test_batch['data'].reshape((len(test_batch['data']), 3, 32, 32)).transpose(0, 2, 3, 1))\n",
        "test_labels = np.array(test_batch['labels'])\n",
        "\n",
        "#merges all train features \n",
        "train_val_features = np.concatenate((batch1_features, batch2_features, batch3_features, batch4_features, batch5_features), 0)\n",
        "#merges all train labels\n",
        "train_val_labels = np.concatenate((batch1_labels, batch2_labels, batch3_labels, batch4_labels, batch5_labels), 0)\n",
        "\n",
        "train_features, val_features, train_labels, val_labels = train_test_split(train_val_features, train_val_labels, test_size=0.20, random_state=1)"
      ],
      "execution_count": 0,
      "outputs": []
    },
    {
      "metadata": {
        "id": "G_d9WYeRHgt7",
        "colab_type": "text"
      },
      "cell_type": "markdown",
      "source": [
        "Calculating mean and standard deviation values for normalization"
      ]
    },
    {
      "metadata": {
        "id": "-t1sgST7I8lP",
        "colab_type": "code",
        "colab": {}
      },
      "cell_type": "code",
      "source": [
        "train_mean = (np.mean(train_features, axis = (0, 1, 2)) / 255).tolist()\n",
        "train_std = (np.std(train_features, axis = (0, 1, 2)) / 255).tolist()\n",
        "\n",
        "val_mean = (np.mean(val_features, axis = (0, 1, 2)) / 255).tolist()\n",
        "val_std = (np.std(val_features, axis = (0, 1, 2)) / 255).tolist()\n",
        "\n",
        "test_mean = (np.mean(test_features, axis = (0, 1, 2)) / 255).tolist()\n",
        "test_std = (np.std(test_features, axis = (0, 1, 2)) / 255).tolist()"
      ],
      "execution_count": 0,
      "outputs": []
    },
    {
      "metadata": {
        "id": "2TIkCFDOHlFX",
        "colab_type": "text"
      },
      "cell_type": "markdown",
      "source": [
        "# **Custom Dataset Class for Cifar10**"
      ]
    },
    {
      "metadata": {
        "id": "8cJiWF_3g84_",
        "colab_type": "code",
        "colab": {}
      },
      "cell_type": "code",
      "source": [
        "class Cifar10(Dataset):\n",
        "    \n",
        "    def __init__(self, features, labels, transform = None):\n",
        "        self.features = features\n",
        "        self.labels = labels\n",
        "        self.transform = transform\n",
        "                \n",
        "    def __len__(self):\n",
        "        return len(self.features)\n",
        "\n",
        "    def __getitem__(self, idx):\n",
        "        \n",
        "        img = self.features[idx]\n",
        "        label = self.labels[idx]\n",
        "\n",
        "        if self.transform:\n",
        "            img = self.transform(img)\n",
        "                    \n",
        "        return img, label"
      ],
      "execution_count": 0,
      "outputs": []
    },
    {
      "metadata": {
        "id": "xGfCS1JqHsge",
        "colab_type": "text"
      },
      "cell_type": "markdown",
      "source": [
        "# **Data Transformations and Creating Dataloaders**"
      ]
    },
    {
      "metadata": {
        "id": "e6QWsUC0g5ud",
        "colab_type": "code",
        "colab": {}
      },
      "cell_type": "code",
      "source": [
        "transform_train = transforms.Compose([\n",
        "    transforms.ToPILImage(),\n",
        "    transforms.Resize(224),\n",
        "    transforms.RandomHorizontalFlip(),\n",
        "    transforms.ToTensor(),\n",
        "    transforms.Normalize(train_mean, train_std),\n",
        "])\n",
        "\n",
        "transform_val = transforms.Compose([   \n",
        "    transforms.ToPILImage(),\n",
        "    transforms.Resize(224),\n",
        "    transforms.ToTensor(),\n",
        "    transforms.Normalize(val_mean, val_std),\n",
        "])\n",
        "\n",
        "transform_test = transforms.Compose([\n",
        "    transforms.ToPILImage(),\n",
        "    transforms.Resize(224),    \n",
        "    transforms.ToTensor(),\n",
        "    transforms.Normalize(test_mean, test_std),\n",
        "])\n",
        "\n",
        "trainset = Cifar10(train_features, train_labels, transform_train)\n",
        "trainloader = torch.utils.data.DataLoader(trainset, batch_size = 128, shuffle = True)\n",
        "\n",
        "valset = Cifar10(val_features, val_labels, transform_val)\n",
        "valloader = torch.utils.data.DataLoader(valset, batch_size = 128, shuffle = True)\n",
        "\n",
        "testset = Cifar10(test_features, test_labels, transform_test)\n",
        "testloader = torch.utils.data.DataLoader(testset, batch_size = 128, shuffle = True)"
      ],
      "execution_count": 0,
      "outputs": []
    },
    {
      "metadata": {
        "id": "uQj0xOUyH4tB",
        "colab_type": "text"
      },
      "cell_type": "markdown",
      "source": [
        "# **Training function for the model**"
      ]
    },
    {
      "metadata": {
        "id": "_drZMOGqzcxV",
        "colab_type": "code",
        "colab": {}
      },
      "cell_type": "code",
      "source": [
        "def train_model(model, criterion, optimizer, scheduler, num_epochs = 25):\n",
        "    since = time.time()\n",
        "\n",
        "    best_model_wts = copy.deepcopy(model.state_dict())\n",
        "    best_acc = 0.0\n",
        "\n",
        "    for epoch in range(num_epochs):\n",
        "        print('Epoch {}/{}'.format(epoch, num_epochs - 1))\n",
        "        print('-' * 10)\n",
        "\n",
        "        # Each epoch has a training and validation phase\n",
        "        for phase in ['train', 'val']:\n",
        "            if phase == 'train':\n",
        "                loader = trainloader\n",
        "                dataset_size = len(train_labels)\n",
        "                scheduler.step()\n",
        "                model.train()  # Set model to training mode\n",
        "            else:\n",
        "                loader = valloader\n",
        "                dataset_size = len(val_labels)\n",
        "                model.eval()   # Set model to evaluate mode\n",
        "\n",
        "            running_loss = 0.0\n",
        "            running_corrects = 0\n",
        "           \n",
        "            # Iterate over data.\n",
        "            for inputs, labels in loader:\n",
        "                inputs = inputs.to(device)\n",
        "                labels = labels.to(device)\n",
        "\n",
        "                # zero the parameter gradients\n",
        "                optimizer.zero_grad()\n",
        "\n",
        "                # forward\n",
        "                # track history if only in train\n",
        "                with torch.set_grad_enabled(phase == 'train'):\n",
        "                    outputs = model(inputs)\n",
        "                    _, preds = torch.max(outputs, 1)\n",
        "                    loss = criterion(outputs, labels)\n",
        "\n",
        "                    # backward + optimize only if in training phase\n",
        "                    if phase == 'train':\n",
        "                        loss.backward()\n",
        "                        optimizer.step()\n",
        "\n",
        "                # statistics\n",
        "                running_loss += loss.item() * inputs.size(0)\n",
        "                running_corrects += torch.sum(preds == labels.data)\n",
        "\n",
        "            epoch_loss = running_loss / dataset_size\n",
        "            epoch_acc = running_corrects.double() / dataset_size\n",
        "\n",
        "            print('{} Loss: {:.4f} Acc: {:.4f}'.format(\n",
        "                phase, epoch_loss, epoch_acc))\n",
        "\n",
        "            # deep copy the model\n",
        "            if phase == 'val' and epoch_acc > best_acc:\n",
        "                best_acc = epoch_acc\n",
        "                best_model_wts = copy.deepcopy(model.state_dict())\n",
        "\n",
        "        print()\n",
        "\n",
        "    time_elapsed = time.time() - since\n",
        "    print('Training complete in {:.0f}m {:.0f}s'.format(\n",
        "        time_elapsed // 60, time_elapsed % 60))\n",
        "    print('Best val Acc: {:4f}'.format(best_acc))\n",
        "\n",
        "    # load best model weights\n",
        "    model.load_state_dict(best_model_wts)\n",
        "    return model"
      ],
      "execution_count": 0,
      "outputs": []
    },
    {
      "metadata": {
        "id": "eDarRyWgrEGC",
        "colab_type": "text"
      },
      "cell_type": "markdown",
      "source": [
        "# **Optimizing only final layer of pretrained network with Hinge loss**"
      ]
    },
    {
      "metadata": {
        "id": "X1dJsyT8H-yq",
        "colab_type": "text"
      },
      "cell_type": "markdown",
      "source": [
        "Training"
      ]
    },
    {
      "metadata": {
        "id": "JAigI8JtEFCa",
        "colab_type": "code",
        "colab": {}
      },
      "cell_type": "code",
      "source": [
        "net = models.resnet50(pretrained=True)\n",
        "for param in net.parameters():\n",
        "    param.requires_grad = False\n",
        "\n",
        "num_ftrs = net.fc.in_features\n",
        "net.fc = nn.Linear(num_ftrs, 10)\n",
        "net = net.to(device) \n",
        "\n",
        "criterion = nn.MultiMarginLoss()\n",
        "optimizer_ft = optim.SGD(net.fc.parameters(), lr = 0.01, momentum = 0.9)\n",
        "\n",
        "# Decay LR by a factor of 0.1 every 7 epochs\n",
        "exp_lr_scheduler = lr_scheduler.StepLR(optimizer_ft, step_size = 5, gamma = 0.1)\n",
        "\n",
        "model_ft = train_model(net, criterion, optimizer_ft, exp_lr_scheduler, 10)"
      ],
      "execution_count": 0,
      "outputs": []
    },
    {
      "metadata": {
        "id": "h5NP1A4_IESF",
        "colab_type": "text"
      },
      "cell_type": "markdown",
      "source": [
        "Testing"
      ]
    },
    {
      "metadata": {
        "id": "yhnqFrnyosIw",
        "colab_type": "code",
        "colab": {}
      },
      "cell_type": "code",
      "source": [
        "correct = 0\n",
        "total = 0\n",
        "with torch.no_grad():\n",
        "    for data in testloader:\n",
        "        inputs, labels = data\n",
        "        labels = labels.long()\n",
        "        inputs, labels = inputs.to(device), labels.to(device)\n",
        "        outputs = model_ft(inputs)\n",
        "        _, predicted = torch.max(outputs.data, 1)\n",
        "        total += labels.size(0)\n",
        "        correct += (predicted == labels).sum().item()\n",
        "\n",
        "print('Accuracy of the network on the 10000 test images: %d %%' % (\n",
        "    100 * correct / total))"
      ],
      "execution_count": 0,
      "outputs": []
    },
    {
      "metadata": {
        "id": "DP0GIUlnrKTq",
        "colab_type": "text"
      },
      "cell_type": "markdown",
      "source": [
        "# **Optimizing only final layer of pretrained network with Cross Entropy loss**"
      ]
    },
    {
      "metadata": {
        "id": "6ITzgiCeIGDa",
        "colab_type": "text"
      },
      "cell_type": "markdown",
      "source": [
        "Training"
      ]
    },
    {
      "metadata": {
        "id": "RHOLVmLO6Bjm",
        "colab_type": "code",
        "colab": {}
      },
      "cell_type": "code",
      "source": [
        "net = models.resnet50(pretrained=True)\n",
        "for param in net.parameters():\n",
        "    param.requires_grad = False\n",
        "\n",
        "num_ftrs = net.fc.in_features\n",
        "net.fc = nn.Linear(num_ftrs, 10)\n",
        "net = net.to(device) \n",
        "\n",
        "criterion = nn.CrossEntropyLoss()\n",
        "optimizer_ft = optim.SGD(net.fc.parameters(), lr = 0.01, momentum = 0.9)\n",
        "\n",
        "# Decay LR by a factor of 0.1 every 7 epochs\n",
        "exp_lr_scheduler = lr_scheduler.StepLR(optimizer_ft, step_size = 5, gamma = 0.1)\n",
        "\n",
        "model_ft = train_model(net, criterion, optimizer_ft, exp_lr_scheduler, 10)"
      ],
      "execution_count": 0,
      "outputs": []
    },
    {
      "metadata": {
        "id": "677ZmZw3IHxu",
        "colab_type": "text"
      },
      "cell_type": "markdown",
      "source": [
        "Testing"
      ]
    },
    {
      "metadata": {
        "id": "IKSv7kDBxOek",
        "colab_type": "code",
        "colab": {}
      },
      "cell_type": "code",
      "source": [
        "correct = 0\n",
        "total = 0\n",
        "with torch.no_grad():\n",
        "    for data in testloader:\n",
        "        inputs, labels = data\n",
        "        labels = labels.long()\n",
        "        inputs, labels = inputs.to(device), labels.to(device)\n",
        "        outputs = model_ft(inputs)\n",
        "        _, predicted = torch.max(outputs.data, 1)\n",
        "        total += labels.size(0)\n",
        "        correct += (predicted == labels).sum().item()\n",
        "\n",
        "print('Accuracy of the network on the 10000 test images: %d %%' % (\n",
        "    100 * correct / total))"
      ],
      "execution_count": 0,
      "outputs": []
    },
    {
      "metadata": {
        "id": "GG1Tyk-YrTLE",
        "colab_type": "text"
      },
      "cell_type": "markdown",
      "source": [
        "# **Optimizing all layers of pretrained network with Hinge loss**"
      ]
    },
    {
      "metadata": {
        "id": "mK3cmWWUIKLI",
        "colab_type": "text"
      },
      "cell_type": "markdown",
      "source": [
        "Training"
      ]
    },
    {
      "metadata": {
        "id": "DL06bMNwt_OO",
        "colab_type": "code",
        "colab": {}
      },
      "cell_type": "code",
      "source": [
        "net = models.resnet50(pretrained=True)\n",
        "num_ftrs = net.fc.in_features\n",
        "net.fc = nn.Linear(num_ftrs, 10)\n",
        "net = net.to(device) \n",
        "\n",
        "criterion = nn.MultiMarginLoss()\n",
        "optimizer_ft = optim.SGD(net.parameters(), lr = 0.01, momentum = 0.9)\n",
        "\n",
        "# Decay LR by a factor of 0.1 every 7 epochs\n",
        "exp_lr_scheduler = lr_scheduler.StepLR(optimizer_ft, step_size = 5, gamma = 0.1)\n",
        "\n",
        "model_ft = train_model(net, criterion, optimizer_ft, exp_lr_scheduler, 10)"
      ],
      "execution_count": 0,
      "outputs": []
    },
    {
      "metadata": {
        "id": "GZ_DJj-TILzJ",
        "colab_type": "text"
      },
      "cell_type": "markdown",
      "source": [
        "Testing"
      ]
    },
    {
      "metadata": {
        "id": "n9XMqb7WirdJ",
        "colab_type": "code",
        "colab": {}
      },
      "cell_type": "code",
      "source": [
        "correct = 0\n",
        "total = 0\n",
        "with torch.no_grad():\n",
        "    for data in testloader:\n",
        "        inputs, labels = data\n",
        "        labels = labels.long()\n",
        "        inputs, labels = inputs.to(device), labels.to(device)\n",
        "        outputs = model_ft(inputs)\n",
        "        _, predicted = torch.max(outputs.data, 1)\n",
        "        total += labels.size(0)\n",
        "        correct += (predicted == labels).sum().item()\n",
        "\n",
        "print('Accuracy of the network on the 10000 test images: %d %%' % (\n",
        "    100 * correct / total))"
      ],
      "execution_count": 0,
      "outputs": []
    },
    {
      "metadata": {
        "id": "zPrv9yTRrZ_W",
        "colab_type": "text"
      },
      "cell_type": "markdown",
      "source": [
        "# **Optimizing all layers of pretrained network with Cross Entropy loss**"
      ]
    },
    {
      "metadata": {
        "id": "mVI4oprWINJE",
        "colab_type": "text"
      },
      "cell_type": "markdown",
      "source": [
        "Training"
      ]
    },
    {
      "metadata": {
        "id": "oDGL7iADouCs",
        "colab_type": "code",
        "colab": {}
      },
      "cell_type": "code",
      "source": [
        "net = models.resnet50(pretrained = True)\n",
        "num_ftrs = net.fc.in_features\n",
        "net.fc = nn.Linear(num_ftrs, 10)\n",
        "net = net.to(device) \n",
        "\n",
        "criterion = nn.CrossEntropyLoss()\n",
        "optimizer_ft = optim.SGD(net.parameters(), lr = 0.01, momentum = 0.9)\n",
        "\n",
        "# Decay LR by a factor of 0.1 every 7 epochs\n",
        "exp_lr_scheduler = lr_scheduler.StepLR(optimizer_ft, step_size = 5, gamma = 0.1)\n",
        "\n",
        "model_ft = train_model(net, criterion, optimizer_ft, exp_lr_scheduler, 10)"
      ],
      "execution_count": 0,
      "outputs": []
    },
    {
      "metadata": {
        "id": "v-55qVtxIPt-",
        "colab_type": "text"
      },
      "cell_type": "markdown",
      "source": [
        "Testing"
      ]
    },
    {
      "metadata": {
        "id": "6KnF79mk7ZJp",
        "colab_type": "code",
        "colab": {}
      },
      "cell_type": "code",
      "source": [
        "correct = 0\n",
        "total = 0\n",
        "with torch.no_grad():\n",
        "    for data in testloader:\n",
        "        inputs, labels = data\n",
        "        labels = labels.long()\n",
        "        inputs, labels = inputs.to(device), labels.to(device)\n",
        "        outputs = model_ft(inputs)\n",
        "        _, predicted = torch.max(outputs.data, 1)\n",
        "        total += labels.size(0)\n",
        "        correct += (predicted == labels).sum().item()\n",
        "\n",
        "print('Accuracy of the network on the 10000 test images: %d %%' % (\n",
        "    100 * correct / total))"
      ],
      "execution_count": 0,
      "outputs": []
    },
    {
      "metadata": {
        "id": "yGDlplW0Mafj",
        "colab_type": "text"
      },
      "cell_type": "markdown",
      "source": [
        "In the parts below, I experimented with my implementation of ResNet-50 rather than using the pretrained model."
      ]
    },
    {
      "metadata": {
        "id": "tl1qxhNrrgWp",
        "colab_type": "text"
      },
      "cell_type": "markdown",
      "source": [
        "# **ResNet-50 implementation for Cifar10**"
      ]
    },
    {
      "metadata": {
        "id": "bYldvFvESKht",
        "colab_type": "code",
        "colab": {}
      },
      "cell_type": "code",
      "source": [
        "class Bottleneck(nn.Module):\n",
        "    \n",
        "    def __init__(self, in_channels, out_channels, stride = 1, shortcut = None):\n",
        "        super(Bottleneck, self).__init__()\n",
        "        \n",
        "        self.conv1 = nn.Conv2d(in_channels, out_channels, kernel_size = 1, stride = 1, bias = False) \n",
        "        self.bn1 = nn.BatchNorm2d(out_channels)\n",
        "        \n",
        "        self.conv2 = nn.Conv2d(out_channels, out_channels, kernel_size = 3, stride = stride, padding = 1, bias = False) \n",
        "        self.bn2 = nn.BatchNorm2d(out_channels) \n",
        "        \n",
        "        self.conv3 = nn.Conv2d(out_channels, out_channels * 4, kernel_size = 1, stride = 1, bias = False) \n",
        "        self.bn3 = nn.BatchNorm2d(out_channels * 4) \n",
        "        \n",
        "        self.relu = nn.ReLU(inplace = True) \n",
        "        \n",
        "        self.shortcut = shortcut \n",
        "        self.stride = stride\n",
        "\n",
        "    def forward(self, x):\n",
        "        identity = x\n",
        "\n",
        "        output = self.conv1(x)\n",
        "        output = self.bn1(output)\n",
        "        output = self.relu(output)\n",
        "\n",
        "        output = self.conv2(output)\n",
        "        output = self.bn2(output)\n",
        "        output = self.relu(output)\n",
        "\n",
        "        output = self.conv3(output)\n",
        "        output = self.bn3(output)\n",
        "\n",
        "        if self.shortcut is not None: #use projection shortcut if input and output dimensions are not same\n",
        "            identity = self.shortcut(x) \n",
        "\n",
        "        output = output + identity\n",
        "        output = self.relu(output)\n",
        "\n",
        "        return output\n",
        "\n",
        "class ResNet50(nn.Module):\n",
        "\n",
        "    def __init__(self, num_classes = 10):\n",
        "        super(ResNet50, self).__init__()\n",
        "        self.in_channels = 64\n",
        "        \n",
        "        self.conv1 = nn.Conv2d(3, 64, kernel_size = 7, stride = 2, padding = 3, bias = False) \n",
        "        self.bn1 = nn.BatchNorm2d(64) \n",
        "        self.relu = nn.ReLU(inplace = True) \n",
        "        self.maxpool = nn.MaxPool2d(kernel_size = 3, stride = 2, padding = 1) \n",
        "        \n",
        "        self.layer1 = self.make_layer(64, 3, 1)\n",
        "        self.layer2 = self.make_layer(128, 4, 2)\n",
        "        self.layer3 = self.make_layer(256, 6, 2)\n",
        "        self.layer4 = self.make_layer(512, 3, 2)\n",
        "        \n",
        "        self.avgpool = nn.AdaptiveAvgPool2d((1, 1))\n",
        "        self.fc = nn.Linear(2048, num_classes)\n",
        "\n",
        "        ####WEIGHT INITIALIZATION \n",
        "        #initializes weights using He initialization\n",
        "        for m in self.modules():\n",
        "            if isinstance(m, nn.Conv2d):\n",
        "                nn.init.kaiming_normal_(m.weight, mode = 'fan_out', nonlinearity = 'relu')\n",
        "            elif isinstance(m, nn.BatchNorm2d):\n",
        "                nn.init.constant_(m.weight, 1)\n",
        "                nn.init.constant_(m.bias, 0)\n",
        "\n",
        "    def make_layer(self, out_channels, num_of_blocks, stride):\n",
        "      \n",
        "        shortcut = None   #identity mapping\n",
        "        if stride != 1 or self.in_channels != out_channels * 4: \n",
        "            shortcut = nn.Sequential(nn.Conv2d(self.in_channels, out_channels * 4, kernel_size = 1, stride = stride, bias = False), nn.BatchNorm2d(out_channels * 4)) #apply projection shortcut for first sublayers\n",
        "            \n",
        "        sublayers = []\n",
        "        sublayers.append(Bottleneck(self.in_channels, out_channels, stride, shortcut))\n",
        "        self.in_channels = out_channels * 4\n",
        "        \n",
        "        for i in range(1, num_of_blocks):\n",
        "            sublayers.append(Bottleneck(self.in_channels, out_channels)) #no projection shortcut needed in other sublayers as input and output sizes are guarenteed to be same \n",
        "\n",
        "        return nn.Sequential(*sublayers)\n",
        "\n",
        "    def forward(self, x):\n",
        "      \n",
        "        x = self.conv1(x)\n",
        "        x = self.bn1(x)\n",
        "        x = self.relu(x)\n",
        "        x = self.maxpool(x)\n",
        "\n",
        "        x = self.layer1(x)\n",
        "        x = self.layer2(x)\n",
        "        x = self.layer3(x)\n",
        "        x = self.layer4(x)\n",
        "\n",
        "        x = self.avgpool(x)\n",
        "        x = x.view(x.size(0), -1)\n",
        "        x = self.fc(x)\n",
        "\n",
        "        return x\n",
        "\n"
      ],
      "execution_count": 0,
      "outputs": []
    },
    {
      "metadata": {
        "id": "SADpSWu5ITff",
        "colab_type": "text"
      },
      "cell_type": "markdown",
      "source": [
        "Since our custom implementation allows images with smaller input sizes than 224x224, no need for resizing."
      ]
    },
    {
      "metadata": {
        "id": "MVbkPBCaeAaL",
        "colab_type": "code",
        "colab": {}
      },
      "cell_type": "code",
      "source": [
        "#applied same transformations with the original paper for cifar10\n",
        "transform_train = transforms.Compose([\n",
        "    transforms.ToPILImage(),\n",
        "    transforms.RandomCrop(32, padding=4),\n",
        "    transforms.RandomHorizontalFlip(),\n",
        "    transforms.ToTensor(),\n",
        "    transforms.Normalize(train_mean, train_std),\n",
        "])\n",
        "\n",
        "transform_val = transforms.Compose([   \n",
        "    transforms.ToTensor(),\n",
        "    transforms.Normalize(val_mean, val_std),\n",
        "])\n",
        "\n",
        "transform_test = transforms.Compose([  \n",
        "    transforms.ToTensor(),\n",
        "    transforms.Normalize(test_mean, test_std),\n",
        "])\n",
        "\n",
        "trainset = Cifar10(train_features, train_labels, transform_train)\n",
        "trainloader = torch.utils.data.DataLoader(trainset, batch_size = 128, shuffle = True)\n",
        "\n",
        "valset = Cifar10(val_features, val_labels, transform_val)\n",
        "valloader = torch.utils.data.DataLoader(valset, batch_size = 128, shuffle = True)\n",
        "\n",
        "testset = Cifar10(test_features, test_labels, transform_test)\n",
        "testloader = torch.utils.data.DataLoader(testset, batch_size = 128, shuffle = True)"
      ],
      "execution_count": 0,
      "outputs": []
    },
    {
      "metadata": {
        "id": "TMHD1VxpsJi-",
        "colab_type": "text"
      },
      "cell_type": "markdown",
      "source": [
        "# **Optimizing only final layer of the network (custom implementation) with Hinge loss**"
      ]
    },
    {
      "metadata": {
        "id": "Zp3LRcpBIs8S",
        "colab_type": "text"
      },
      "cell_type": "markdown",
      "source": [
        "Training"
      ]
    },
    {
      "metadata": {
        "id": "t05F9831qnRH",
        "colab_type": "code",
        "colab": {}
      },
      "cell_type": "code",
      "source": [
        "net = ResNet50()\n",
        "for param in net.parameters():\n",
        "    param.requires_grad = False\n",
        "\n",
        "num_ftrs = net.fc.in_features\n",
        "net.fc = nn.Linear(num_ftrs, 10)\n",
        "net = net.to(device) \n",
        "\n",
        "criterion = nn.MultiMarginLoss()\n",
        "optimizer_ft = optim.SGD(net.fc.parameters(), lr = 0.01, momentum = 0.9)\n",
        "\n",
        "# Decay LR by a factor of 0.1 every 5 epochs\n",
        "exp_lr_scheduler = lr_scheduler.StepLR(optimizer_ft, step_size = 5, gamma = 0.1)\n",
        "\n",
        "model_ft = train_model(net, criterion, optimizer_ft, exp_lr_scheduler, 10)"
      ],
      "execution_count": 0,
      "outputs": []
    },
    {
      "metadata": {
        "id": "cwtUaSyJIufb",
        "colab_type": "text"
      },
      "cell_type": "markdown",
      "source": [
        "Testing"
      ]
    },
    {
      "metadata": {
        "id": "kue33oIf2Ovb",
        "colab_type": "code",
        "colab": {}
      },
      "cell_type": "code",
      "source": [
        "correct = 0\n",
        "total = 0\n",
        "with torch.no_grad():\n",
        "    for data in testloader:\n",
        "        inputs, labels = data\n",
        "        labels = labels.long()\n",
        "        inputs, labels = inputs.to(device), labels.to(device)\n",
        "        outputs = model_ft(inputs)\n",
        "        _, predicted = torch.max(outputs.data, 1)\n",
        "        total += labels.size(0)\n",
        "        correct += (predicted == labels).sum().item()\n",
        "\n",
        "print('Accuracy of the network on the 10000 test images: %d %%' % (\n",
        "    100 * correct / total))"
      ],
      "execution_count": 0,
      "outputs": []
    },
    {
      "metadata": {
        "id": "NwrGMiKX2XWU",
        "colab_type": "text"
      },
      "cell_type": "markdown",
      "source": [
        "# **Optimizing only final layer of the network (custom implementation) with Cross Entropy loss**"
      ]
    },
    {
      "metadata": {
        "id": "MyvXYRvrIwK4",
        "colab_type": "text"
      },
      "cell_type": "markdown",
      "source": [
        "Training"
      ]
    },
    {
      "metadata": {
        "id": "4lwaQkKh2gmZ",
        "colab_type": "code",
        "colab": {}
      },
      "cell_type": "code",
      "source": [
        "net = ResNet50()\n",
        "for param in net.parameters():\n",
        "    param.requires_grad = False\n",
        "\n",
        "num_ftrs = net.fc.in_features\n",
        "net.fc = nn.Linear(num_ftrs, 10)\n",
        "net = net.to(device) \n",
        "\n",
        "criterion = nn.CrossEntropyLoss()\n",
        "optimizer_ft = optim.SGD(net.fc.parameters(), lr = 0.01, momentum = 0.9)\n",
        "\n",
        "# Decay LR by a factor of 0.1 every 5 epochs\n",
        "exp_lr_scheduler = lr_scheduler.StepLR(optimizer_ft, step_size = 5, gamma = 0.1)\n",
        "\n",
        "model_ft = train_model(net, criterion, optimizer_ft, exp_lr_scheduler, 10)"
      ],
      "execution_count": 0,
      "outputs": []
    },
    {
      "metadata": {
        "id": "JN4wZSrSIymC",
        "colab_type": "text"
      },
      "cell_type": "markdown",
      "source": [
        "Testing"
      ]
    },
    {
      "metadata": {
        "id": "dlQURdDI-DPG",
        "colab_type": "code",
        "colab": {}
      },
      "cell_type": "code",
      "source": [
        "correct = 0\n",
        "total = 0\n",
        "with torch.no_grad():\n",
        "    for data in testloader:\n",
        "        inputs, labels = data\n",
        "        labels = labels.long()\n",
        "        inputs, labels = inputs.to(device), labels.to(device)\n",
        "        outputs = model_ft(inputs)\n",
        "        _, predicted = torch.max(outputs.data, 1)\n",
        "        total += labels.size(0)\n",
        "        correct += (predicted == labels).sum().item()\n",
        "\n",
        "print('Accuracy of the network on the 10000 test images: %d %%' % (\n",
        "    100 * correct / total))"
      ],
      "execution_count": 0,
      "outputs": []
    },
    {
      "metadata": {
        "id": "Jcou7OhB-EOq",
        "colab_type": "text"
      },
      "cell_type": "markdown",
      "source": [
        "# **Optimizing network's (custom implementation) all layers with Hinge loss**"
      ]
    },
    {
      "metadata": {
        "id": "Sr1bloeMIz-i",
        "colab_type": "text"
      },
      "cell_type": "markdown",
      "source": [
        "Training"
      ]
    },
    {
      "metadata": {
        "id": "sRz0ru-t-NDa",
        "colab_type": "code",
        "colab": {}
      },
      "cell_type": "code",
      "source": [
        "net = ResNet50()\n",
        "num_ftrs = net.fc.in_features\n",
        "net.fc = nn.Linear(num_ftrs, 10)\n",
        "net = net.to(device) \n",
        "\n",
        "criterion = nn.MultiMarginLoss()\n",
        "optimizer_ft = optim.SGD(net.parameters(), lr = 0.01, momentum = 0.9)\n",
        "\n",
        "# Decay LR by a factor of 0.1 every 5 epochs\n",
        "exp_lr_scheduler = lr_scheduler.StepLR(optimizer_ft, step_size = 5, gamma = 0.1)\n",
        "\n",
        "model_ft = train_model(net, criterion, optimizer_ft, exp_lr_scheduler, 10)"
      ],
      "execution_count": 0,
      "outputs": []
    },
    {
      "metadata": {
        "id": "J2VsC3W1I1c1",
        "colab_type": "text"
      },
      "cell_type": "markdown",
      "source": [
        "Testing"
      ]
    },
    {
      "metadata": {
        "id": "Rdf4SXSJ_J-N",
        "colab_type": "code",
        "colab": {}
      },
      "cell_type": "code",
      "source": [
        "correct = 0\n",
        "total = 0\n",
        "with torch.no_grad():\n",
        "    for data in testloader:\n",
        "        inputs, labels = data\n",
        "        labels = labels.long()\n",
        "        inputs, labels = inputs.to(device), labels.to(device)\n",
        "        outputs = model_ft(inputs)\n",
        "        _, predicted = torch.max(outputs.data, 1)\n",
        "        total += labels.size(0)\n",
        "        correct += (predicted == labels).sum().item()\n",
        "\n",
        "print('Accuracy of the network on the 10000 test images: %d %%' % (\n",
        "    100 * correct / total))"
      ],
      "execution_count": 0,
      "outputs": []
    },
    {
      "metadata": {
        "id": "3orhLeiU_LSl",
        "colab_type": "text"
      },
      "cell_type": "markdown",
      "source": [
        "# **Optimizing network's (custom implementation) all layers with Cross Entropy loss**"
      ]
    },
    {
      "metadata": {
        "id": "8yORShuxI3GR",
        "colab_type": "text"
      },
      "cell_type": "markdown",
      "source": [
        "Training"
      ]
    },
    {
      "metadata": {
        "id": "oGgGlHTj_QKA",
        "colab_type": "code",
        "colab": {}
      },
      "cell_type": "code",
      "source": [
        "net = ResNet50()\n",
        "num_ftrs = net.fc.in_features\n",
        "net.fc = nn.Linear(num_ftrs, 10)\n",
        "net = net.to(device) \n",
        "\n",
        "criterion = nn.CrossEntropyLoss()\n",
        "optimizer_ft = optim.SGD(net.parameters(), lr = 0.01, momentum = 0.9)\n",
        "\n",
        "# Decay LR by a factor of 0.1 every 5 epochs\n",
        "exp_lr_scheduler = lr_scheduler.StepLR(optimizer_ft, step_size = 5, gamma = 0.1)\n",
        "\n",
        "model_ft = train_model(net, criterion, optimizer_ft, exp_lr_scheduler, 10)"
      ],
      "execution_count": 0,
      "outputs": []
    },
    {
      "metadata": {
        "id": "PutFUfFnI4iN",
        "colab_type": "text"
      },
      "cell_type": "markdown",
      "source": [
        "Testing"
      ]
    },
    {
      "metadata": {
        "id": "DpoPaq7r_V43",
        "colab_type": "code",
        "colab": {}
      },
      "cell_type": "code",
      "source": [
        "correct = 0\n",
        "total = 0\n",
        "with torch.no_grad():\n",
        "    for data in testloader:\n",
        "        inputs, labels = data\n",
        "        labels = labels.long()\n",
        "        inputs, labels = inputs.to(device), labels.to(device)\n",
        "        outputs = model_ft(inputs)\n",
        "        _, predicted = torch.max(outputs.data, 1)\n",
        "        total += labels.size(0)\n",
        "        correct += (predicted == labels).sum().item()\n",
        "\n",
        "print('Accuracy of the network on the 10000 test images: %d %%' % (\n",
        "    100 * correct / total))"
      ],
      "execution_count": 0,
      "outputs": []
    }
  ]
}